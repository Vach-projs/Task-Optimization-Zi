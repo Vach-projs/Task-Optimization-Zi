{
  "nbformat": 4,
  "nbformat_minor": 0,
  "metadata": {
    "colab": {
      "provenance": [],
      "gpuType": "T4"
    },
    "kernelspec": {
      "name": "python3",
      "display_name": "Python 3"
    },
    "language_info": {
      "name": "python"
    },
    "accelerator": "GPU"
  },
  "cells": [
    {
      "cell_type": "code",
      "source": [
        "#libraries\n",
        "#!pip install pandas scikit-learn matplotlib"
      ],
      "metadata": {
        "id": "WdveMlnsbwko"
      },
      "execution_count": 1,
      "outputs": []
    },
    {
      "cell_type": "code",
      "source": [
        "import pandas as pd\n",
        "from sklearn.model_selection import train_test_split\n",
        "from sklearn.feature_extraction.text import TfidfVectorizer\n",
        "from sklearn.naive_bayes import MultinomialNB\n",
        "from sklearn.metrics import accuracy_score, classification_report\n",
        "import matplotlib.pyplot as plt\n",
        "import seaborn as sns"
      ],
      "metadata": {
        "id": "3nE08_Wbb0sw"
      },
      "execution_count": 2,
      "outputs": []
    },
    {
      "cell_type": "code",
      "source": [
        "#dataset\n",
        "df = pd.read_csv('/content/glassdoor_reviews.csv')"
      ],
      "metadata": {
        "id": "XaFWc0b_b7Jo"
      },
      "execution_count": 3,
      "outputs": []
    },
    {
      "cell_type": "code",
      "source": [
        "#pros and cons into single review column\n",
        "df['review'] = df['pros'].fillna('') + \" \" + df['cons'].fillna('')"
      ],
      "metadata": {
        "id": "QX7C2KtVcHDi"
      },
      "execution_count": 4,
      "outputs": []
    },
    {
      "cell_type": "code",
      "source": [
        "#overall_rating to sentiment\n",
        "def map_sentiment(rating):\n",
        "    if rating >= 4:\n",
        "        return 'positive'\n",
        "    elif rating == 3:\n",
        "        return 'neutral'\n",
        "    else:\n",
        "        return 'negative'\n",
        "\n",
        "df['sentiment'] = df['overall_rating'].apply(map_sentiment)"
      ],
      "metadata": {
        "id": "G3Xbot-HcKHr"
      },
      "execution_count": 5,
      "outputs": []
    },
    {
      "cell_type": "code",
      "source": [
        "#preprocessing\n",
        "df = df[['review', 'sentiment']].dropna()\n",
        "\n",
        "#train and test sets\n",
        "X_train, X_test, y_train, y_test = train_test_split(\n",
        "    df['review'], df['sentiment'], test_size=0.2, random_state=42\n",
        ")"
      ],
      "metadata": {
        "id": "47ToJIjScQlr"
      },
      "execution_count": 6,
      "outputs": []
    },
    {
      "cell_type": "code",
      "source": [
        "#vectorization with expanded vocabulary + n-grams\n",
        "vectorizer = TfidfVectorizer(max_features=10000, ngram_range=(1, 2))\n",
        "X_train_tfidf = vectorizer.fit_transform(X_train)\n",
        "X_test_tfidf = vectorizer.transform(X_test)"
      ],
      "metadata": {
        "id": "mBHpxeAkcWGH"
      },
      "execution_count": 7,
      "outputs": []
    },
    {
      "cell_type": "code",
      "source": [
        "#Naive Bayes model\n",
        "model = MultinomialNB()\n",
        "model.fit(X_train_tfidf, y_train)\n",
        "\n",
        "#predictions\n",
        "y_pred = model.predict(X_test_tfidf)"
      ],
      "metadata": {
        "id": "HmT3D_5bca12"
      },
      "execution_count": 8,
      "outputs": []
    },
    {
      "cell_type": "code",
      "source": [
        "#accuracy and classification report\n",
        "print(\"Accuracy:\", accuracy_score(y_test, y_pred))\n",
        "print(classification_report(y_test, y_pred))"
      ],
      "metadata": {
        "colab": {
          "base_uri": "https://localhost:8080/"
        },
        "id": "5WvuNq4Dcdp3",
        "outputId": "2f703110-0a41-4c8f-a3ce-7bb9a1d76ef8"
      },
      "execution_count": 9,
      "outputs": [
        {
          "output_type": "stream",
          "name": "stdout",
          "text": [
            "Accuracy: 0.6926908974972102\n",
            "              precision    recall  f1-score   support\n",
            "\n",
            "    negative       0.66      0.51      0.58      4364\n",
            "     neutral       0.42      0.10      0.16      5375\n",
            "    positive       0.72      0.95      0.82     15353\n",
            "\n",
            "    accuracy                           0.69     25092\n",
            "   macro avg       0.60      0.52      0.52     25092\n",
            "weighted avg       0.64      0.69      0.63     25092\n",
            "\n"
          ]
        }
      ]
    },
    {
      "cell_type": "code",
      "source": [
        "#stress-related words\n",
        "stress_words = {\n",
        "    'stress', 'stressed', 'anxious', 'overwhelmed', 'overworked', 'burned out', 'burnout',\n",
        "    'pressure', 'exhausted', 'drained', 'draining', 'fatigued', 'depressed', 'tense', 'frustrated',\n",
        "    'irritable', 'panicked', 'nervous', 'worried', 'uneasy', 'distraught', 'agitated',\n",
        "    'restless', 'hopeless', 'disheartened', 'discouraged', 'frazzled', 'unsettled',\n",
        "    'resentful', 'helpless', 'defeated', 'angsty', 'melancholic', 'disillusioned',\n",
        "    'tired', 'jaded', 'beaten down', 'flustered', 'overburdened', 'fatigue', 'dismayed',\n",
        "    'mentally drained', 'emotionally drained', 'physically drained', 'crushed', 'shaken',\n",
        "    'lost', 'broken', 'despondent', 'distressed', 'worn out', 'shattered', 'grief-stricken'\n",
        "}"
      ],
      "metadata": {
        "id": "u1fU2CH3cilW"
      },
      "execution_count": 10,
      "outputs": []
    },
    {
      "cell_type": "code",
      "source": [
        "def predict_sentiment(review):\n",
        "    #Naive Bayes prediction\n",
        "    review_tfidf = vectorizer.transform([review])\n",
        "    prediction = model.predict(review_tfidf)[0]\n",
        "\n",
        "    #stress-related words\n",
        "    review_lower = review.lower()\n",
        "    if any(word in review_lower for word in stress_words):\n",
        "        print(f\"Review: {review}\\n Predicted Sentiment: Negative\\n\")\n",
        "    else:\n",
        "        print(f\"Review: {review}\\n Predicted Sentiment: {prediction}\\n\")"
      ],
      "metadata": {
        "id": "017sbcFZclhD"
      },
      "execution_count": 11,
      "outputs": []
    },
    {
      "cell_type": "code",
      "source": [
        "#test\n",
        "predict_sentiment(\"I feel stressed and overworked all the time.\")\n",
        "predict_sentiment(\"I love the work environment and the management is supportive.\")\n",
        "predict_sentiment(\"The job is draining me emotionally and physically.\")\n",
        "predict_sentiment(\"Amazing benefits and positive work culture!\")\n",
        "predict_sentiment(\"I’m constantly on edge due to the high pressure.\")\n",
        "predict_sentiment(\"I feel burned out and exhausted.\")"
      ],
      "metadata": {
        "colab": {
          "base_uri": "https://localhost:8080/"
        },
        "id": "HiKidpy3cyaI",
        "outputId": "f0e37a66-38ab-43c6-a7a3-f39a8bfe57c7"
      },
      "execution_count": 12,
      "outputs": [
        {
          "output_type": "stream",
          "name": "stdout",
          "text": [
            "Review: I feel stressed and overworked all the time.\n",
            " Predicted Sentiment: Negative\n",
            "\n",
            "Review: I love the work environment and the management is supportive.\n",
            " Predicted Sentiment: positive\n",
            "\n",
            "Review: The job is draining me emotionally and physically.\n",
            " Predicted Sentiment: Negative\n",
            "\n",
            "Review: Amazing benefits and positive work culture!\n",
            " Predicted Sentiment: positive\n",
            "\n",
            "Review: I’m constantly on edge due to the high pressure.\n",
            " Predicted Sentiment: Negative\n",
            "\n",
            "Review: I feel burned out and exhausted.\n",
            " Predicted Sentiment: Negative\n",
            "\n"
          ]
        }
      ]
    },
    {
      "cell_type": "code",
      "source": [
        "#save\n",
        "import joblib\n",
        "joblib.dump(model, '/content/sentiment_model.pkl')\n",
        "joblib.dump(vectorizer, '/content/tfidf_vectorizer.pkl')"
      ],
      "metadata": {
        "colab": {
          "base_uri": "https://localhost:8080/"
        },
        "id": "PYOKPpK1YLN_",
        "outputId": "d706f883-c522-4a59-f3eb-b8f28ee1c855"
      },
      "execution_count": 13,
      "outputs": [
        {
          "output_type": "execute_result",
          "data": {
            "text/plain": [
              "['/content/tfidf_vectorizer.pkl']"
            ]
          },
          "metadata": {},
          "execution_count": 13
        }
      ]
    }
  ]
}