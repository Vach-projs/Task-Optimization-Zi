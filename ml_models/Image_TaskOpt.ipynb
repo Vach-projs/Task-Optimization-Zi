{
  "nbformat": 4,
  "nbformat_minor": 0,
  "metadata": {
    "colab": {
      "provenance": []
    },
    "kernelspec": {
      "name": "python3",
      "display_name": "Python 3"
    },
    "language_info": {
      "name": "python"
    }
  },
  "cells": [
    {
      "cell_type": "code",
      "execution_count": null,
      "metadata": {
        "colab": {
          "base_uri": "https://localhost:8080/"
        },
        "id": "iDH2kA4PVGSs",
        "outputId": "8eda6f79-f991-4c92-fd77-be3dc018325c"
      },
      "outputs": [
        {
          "metadata": {
            "tags": null
          },
          "name": "stdout",
          "output_type": "stream",
          "text": [
            "Found 28709 images belonging to 7 classes.\n",
            "Found 7178 images belonging to 7 classes.\n"
          ]
        },
        {
          "metadata": {
            "tags": null
          },
          "name": "stderr",
          "output_type": "stream",
          "text": [
            "/usr/local/lib/python3.11/dist-packages/keras/src/layers/convolutional/base_conv.py:107: UserWarning: Do not pass an `input_shape`/`input_dim` argument to a layer. When using Sequential models, prefer using an `Input(shape)` object as the first layer in the model instead.\n",
            "  super().__init__(activity_regularizer=activity_regularizer, **kwargs)\n",
            "/usr/local/lib/python3.11/dist-packages/keras/src/trainers/data_adapters/py_dataset_adapter.py:121: UserWarning: Your `PyDataset` class should call `super().__init__(**kwargs)` in its constructor. `**kwargs` can include `workers`, `use_multiprocessing`, `max_queue_size`. Do not pass these arguments to `fit()`, as they will be ignored.\n",
            "  self._warn_if_super_not_called()\n"
          ]
        },
        {
          "output_type": "stream",
          "name": "stdout",
          "text": [
            "Epoch 1/50\n",
            "\u001b[1m449/449\u001b[0m \u001b[32m━━━━━━━━━━━━━━━━━━━━\u001b[0m\u001b[37m\u001b[0m \u001b[1m126s\u001b[0m 276ms/step - accuracy: 0.2371 - loss: 1.8323 - val_accuracy: 0.2732 - val_loss: 1.7578\n",
            "Epoch 2/50\n",
            "\u001b[1m449/449\u001b[0m \u001b[32m━━━━━━━━━━━━━━━━━━━━\u001b[0m\u001b[37m\u001b[0m \u001b[1m120s\u001b[0m 267ms/step - accuracy: 0.2890 - loss: 1.7474 - val_accuracy: 0.3728 - val_loss: 1.6355\n",
            "Epoch 3/50\n",
            "\u001b[1m449/449\u001b[0m \u001b[32m━━━━━━━━━━━━━━━━━━━━\u001b[0m\u001b[37m\u001b[0m \u001b[1m119s\u001b[0m 265ms/step - accuracy: 0.3457 - loss: 1.6738 - val_accuracy: 0.3944 - val_loss: 1.5801\n",
            "Epoch 4/50\n",
            "\u001b[1m449/449\u001b[0m \u001b[32m━━━━━━━━━━━━━━━━━━━━\u001b[0m\u001b[37m\u001b[0m \u001b[1m120s\u001b[0m 266ms/step - accuracy: 0.3599 - loss: 1.6417 - val_accuracy: 0.4207 - val_loss: 1.5289\n",
            "Epoch 5/50\n",
            "\u001b[1m449/449\u001b[0m \u001b[32m━━━━━━━━━━━━━━━━━━━━\u001b[0m\u001b[37m\u001b[0m \u001b[1m143s\u001b[0m 269ms/step - accuracy: 0.3875 - loss: 1.5885 - val_accuracy: 0.4259 - val_loss: 1.4963\n",
            "Epoch 6/50\n",
            "\u001b[1m449/449\u001b[0m \u001b[32m━━━━━━━━━━━━━━━━━━━━\u001b[0m\u001b[37m\u001b[0m \u001b[1m119s\u001b[0m 265ms/step - accuracy: 0.4039 - loss: 1.5537 - val_accuracy: 0.4387 - val_loss: 1.4732\n",
            "Epoch 7/50\n",
            "\u001b[1m 53/449\u001b[0m \u001b[32m━━\u001b[0m\u001b[37m━━━━━━━━━━━━━━━━━━\u001b[0m \u001b[1m1:38\u001b[0m 249ms/step - accuracy: 0.4025 - loss: 1.5397"
          ]
        }
      ],
      "source": [
        "import zipfile\n",
        "import os\n",
        "import tensorflow as tf\n",
        "from tensorflow.keras.preprocessing.image import ImageDataGenerator\n",
        "from tensorflow.keras.models import Sequential\n",
        "from tensorflow.keras.layers import Conv2D, MaxPooling2D, Flatten, Dense, Dropout\n",
        "from tensorflow.keras.optimizers import Adam\n",
        "\n",
        "# Paths for the parent archive and where to unzip it\n",
        "parent_zip_path = '/content/archive.zip'  # Path to the parent archive\n",
        "unzipped_dir = '/content/unzipped_folder'  # Directory to unzip the archive to\n",
        "\n",
        "# Unzip the parent archive containing 'train' and 'test' directories\n",
        "with zipfile.ZipFile(parent_zip_path, 'r') as zip_ref:\n",
        "    zip_ref.extractall(unzipped_dir)\n",
        "\n",
        "# Set the paths for the 'train' and 'test' directories (directly inside the unzipped folder)\n",
        "train_dir = os.path.join(unzipped_dir, 'train')\n",
        "test_dir = os.path.join(unzipped_dir, 'test')\n",
        "\n",
        "# Use ImageDataGenerator to load and augment images\n",
        "train_datagen = ImageDataGenerator(rescale=1./255,\n",
        "                                   rotation_range=20,\n",
        "                                   zoom_range=0.2,\n",
        "                                   horizontal_flip=True)\n",
        "\n",
        "test_datagen = ImageDataGenerator(rescale=1./255)\n",
        "\n",
        "# Load images from the directories, split by class labels (emotion categories)\n",
        "train_generator = train_datagen.flow_from_directory(\n",
        "    train_dir,\n",
        "    target_size=(48, 48),\n",
        "    batch_size=64,\n",
        "    class_mode='categorical',  # One-hot encoding for the labels\n",
        "    color_mode='grayscale'  # Grayscale images\n",
        ")\n",
        "\n",
        "test_generator = test_datagen.flow_from_directory(\n",
        "    test_dir,\n",
        "    target_size=(48, 48),\n",
        "    batch_size=64,\n",
        "    class_mode='categorical',\n",
        "    color_mode='grayscale'  # Grayscale images\n",
        ")\n",
        "\n",
        "# Define the CNN model architecture\n",
        "model = Sequential()\n",
        "\n",
        "# Add Convolutional layers\n",
        "model.add(Conv2D(32, kernel_size=(3, 3), activation='relu', input_shape=(48, 48, 1)))\n",
        "model.add(MaxPooling2D(pool_size=(2, 2)))\n",
        "\n",
        "model.add(Conv2D(64, kernel_size=(3, 3), activation='relu'))\n",
        "model.add(MaxPooling2D(pool_size=(2, 2)))\n",
        "\n",
        "model.add(Conv2D(128, kernel_size=(3, 3), activation='relu'))\n",
        "model.add(MaxPooling2D(pool_size=(2, 2)))\n",
        "\n",
        "# Flatten and fully connected layers\n",
        "model.add(Flatten())\n",
        "model.add(Dense(512, activation='relu'))\n",
        "model.add(Dropout(0.5))\n",
        "model.add(Dense(7, activation='softmax'))  # 7 classes for FER2013 emotions\n",
        "\n",
        "# Compile the model\n",
        "model.compile(loss='categorical_crossentropy', optimizer=Adam(learning_rate=1e-4), metrics=['accuracy'])\n",
        "\n",
        "# Train the model\n",
        "history = model.fit(train_generator, epochs=50, validation_data=test_generator)\n",
        "\n",
        "# Save the model\n",
        "model.save('fer2013_emotion_recognition_model.h5')\n",
        "\n",
        "# Evaluate the model on the test set\n",
        "test_loss, test_acc = model.evaluate(test_generator)\n",
        "print(f'Test accuracy: {test_acc * 100:.2f}%')\n"
      ]
    }
  ]
}